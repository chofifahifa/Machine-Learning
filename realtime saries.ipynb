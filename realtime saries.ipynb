{
  "nbformat": 4,
  "nbformat_minor": 0,
  "metadata": {
    "colab": {
      "name": "Untitled6.ipynb",
      "provenance": [],
      "collapsed_sections": []
    },
    "kernelspec": {
      "name": "python3",
      "display_name": "Python 3"
    },
    "language_info": {
      "name": "python"
    }
  },
  "cells": [
    {
      "cell_type": "markdown",
      "metadata": {
        "id": "Oscoe2I12a5H"
      },
      "source": [
        "# chofifah fitrotul hasanah"
      ]
    },
    {
      "cell_type": "code",
      "metadata": {
        "colab": {
          "resources": {
            "http://localhost:8080/nbextensions/google.colab/files.js": {
              "data": "Ly8gQ29weXJpZ2h0IDIwMTcgR29vZ2xlIExMQwovLwovLyBMaWNlbnNlZCB1bmRlciB0aGUgQXBhY2hlIExpY2Vuc2UsIFZlcnNpb24gMi4wICh0aGUgIkxpY2Vuc2UiKTsKLy8geW91IG1heSBub3QgdXNlIHRoaXMgZmlsZSBleGNlcHQgaW4gY29tcGxpYW5jZSB3aXRoIHRoZSBMaWNlbnNlLgovLyBZb3UgbWF5IG9idGFpbiBhIGNvcHkgb2YgdGhlIExpY2Vuc2UgYXQKLy8KLy8gICAgICBodHRwOi8vd3d3LmFwYWNoZS5vcmcvbGljZW5zZXMvTElDRU5TRS0yLjAKLy8KLy8gVW5sZXNzIHJlcXVpcmVkIGJ5IGFwcGxpY2FibGUgbGF3IG9yIGFncmVlZCB0byBpbiB3cml0aW5nLCBzb2Z0d2FyZQovLyBkaXN0cmlidXRlZCB1bmRlciB0aGUgTGljZW5zZSBpcyBkaXN0cmlidXRlZCBvbiBhbiAiQVMgSVMiIEJBU0lTLAovLyBXSVRIT1VUIFdBUlJBTlRJRVMgT1IgQ09ORElUSU9OUyBPRiBBTlkgS0lORCwgZWl0aGVyIGV4cHJlc3Mgb3IgaW1wbGllZC4KLy8gU2VlIHRoZSBMaWNlbnNlIGZvciB0aGUgc3BlY2lmaWMgbGFuZ3VhZ2UgZ292ZXJuaW5nIHBlcm1pc3Npb25zIGFuZAovLyBsaW1pdGF0aW9ucyB1bmRlciB0aGUgTGljZW5zZS4KCi8qKgogKiBAZmlsZW92ZXJ2aWV3IEhlbHBlcnMgZm9yIGdvb2dsZS5jb2xhYiBQeXRob24gbW9kdWxlLgogKi8KKGZ1bmN0aW9uKHNjb3BlKSB7CmZ1bmN0aW9uIHNwYW4odGV4dCwgc3R5bGVBdHRyaWJ1dGVzID0ge30pIHsKICBjb25zdCBlbGVtZW50ID0gZG9jdW1lbnQuY3JlYXRlRWxlbWVudCgnc3BhbicpOwogIGVsZW1lbnQudGV4dENvbnRlbnQgPSB0ZXh0OwogIGZvciAoY29uc3Qga2V5IG9mIE9iamVjdC5rZXlzKHN0eWxlQXR0cmlidXRlcykpIHsKICAgIGVsZW1lbnQuc3R5bGVba2V5XSA9IHN0eWxlQXR0cmlidXRlc1trZXldOwogIH0KICByZXR1cm4gZWxlbWVudDsKfQoKLy8gTWF4IG51bWJlciBvZiBieXRlcyB3aGljaCB3aWxsIGJlIHVwbG9hZGVkIGF0IGEgdGltZS4KY29uc3QgTUFYX1BBWUxPQURfU0laRSA9IDEwMCAqIDEwMjQ7CgpmdW5jdGlvbiBfdXBsb2FkRmlsZXMoaW5wdXRJZCwgb3V0cHV0SWQpIHsKICBjb25zdCBzdGVwcyA9IHVwbG9hZEZpbGVzU3RlcChpbnB1dElkLCBvdXRwdXRJZCk7CiAgY29uc3Qgb3V0cHV0RWxlbWVudCA9IGRvY3VtZW50LmdldEVsZW1lbnRCeUlkKG91dHB1dElkKTsKICAvLyBDYWNoZSBzdGVwcyBvbiB0aGUgb3V0cHV0RWxlbWVudCB0byBtYWtlIGl0IGF2YWlsYWJsZSBmb3IgdGhlIG5leHQgY2FsbAogIC8vIHRvIHVwbG9hZEZpbGVzQ29udGludWUgZnJvbSBQeXRob24uCiAgb3V0cHV0RWxlbWVudC5zdGVwcyA9IHN0ZXBzOwoKICByZXR1cm4gX3VwbG9hZEZpbGVzQ29udGludWUob3V0cHV0SWQpOwp9CgovLyBUaGlzIGlzIHJvdWdobHkgYW4gYXN5bmMgZ2VuZXJhdG9yIChub3Qgc3VwcG9ydGVkIGluIHRoZSBicm93c2VyIHlldCksCi8vIHdoZXJlIHRoZXJlIGFyZSBtdWx0aXBsZSBhc3luY2hyb25vdXMgc3RlcHMgYW5kIHRoZSBQeXRob24gc2lkZSBpcyBnb2luZwovLyB0byBwb2xsIGZvciBjb21wbGV0aW9uIG9mIGVhY2ggc3RlcC4KLy8gVGhpcyB1c2VzIGEgUHJvbWlzZSB0byBibG9jayB0aGUgcHl0aG9uIHNpZGUgb24gY29tcGxldGlvbiBvZiBlYWNoIHN0ZXAsCi8vIHRoZW4gcGFzc2VzIHRoZSByZXN1bHQgb2YgdGhlIHByZXZpb3VzIHN0ZXAgYXMgdGhlIGlucHV0IHRvIHRoZSBuZXh0IHN0ZXAuCmZ1bmN0aW9uIF91cGxvYWRGaWxlc0NvbnRpbnVlKG91dHB1dElkKSB7CiAgY29uc3Qgb3V0cHV0RWxlbWVudCA9IGRvY3VtZW50LmdldEVsZW1lbnRCeUlkKG91dHB1dElkKTsKICBjb25zdCBzdGVwcyA9IG91dHB1dEVsZW1lbnQuc3RlcHM7CgogIGNvbnN0IG5leHQgPSBzdGVwcy5uZXh0KG91dHB1dEVsZW1lbnQubGFzdFByb21pc2VWYWx1ZSk7CiAgcmV0dXJuIFByb21pc2UucmVzb2x2ZShuZXh0LnZhbHVlLnByb21pc2UpLnRoZW4oKHZhbHVlKSA9PiB7CiAgICAvLyBDYWNoZSB0aGUgbGFzdCBwcm9taXNlIHZhbHVlIHRvIG1ha2UgaXQgYXZhaWxhYmxlIHRvIHRoZSBuZXh0CiAgICAvLyBzdGVwIG9mIHRoZSBnZW5lcmF0b3IuCiAgICBvdXRwdXRFbGVtZW50Lmxhc3RQcm9taXNlVmFsdWUgPSB2YWx1ZTsKICAgIHJldHVybiBuZXh0LnZhbHVlLnJlc3BvbnNlOwogIH0pOwp9CgovKioKICogR2VuZXJhdG9yIGZ1bmN0aW9uIHdoaWNoIGlzIGNhbGxlZCBiZXR3ZWVuIGVhY2ggYXN5bmMgc3RlcCBvZiB0aGUgdXBsb2FkCiAqIHByb2Nlc3MuCiAqIEBwYXJhbSB7c3RyaW5nfSBpbnB1dElkIEVsZW1lbnQgSUQgb2YgdGhlIGlucHV0IGZpbGUgcGlja2VyIGVsZW1lbnQuCiAqIEBwYXJhbSB7c3RyaW5nfSBvdXRwdXRJZCBFbGVtZW50IElEIG9mIHRoZSBvdXRwdXQgZGlzcGxheS4KICogQHJldHVybiB7IUl0ZXJhYmxlPCFPYmplY3Q+fSBJdGVyYWJsZSBvZiBuZXh0IHN0ZXBzLgogKi8KZnVuY3Rpb24qIHVwbG9hZEZpbGVzU3RlcChpbnB1dElkLCBvdXRwdXRJZCkgewogIGNvbnN0IGlucHV0RWxlbWVudCA9IGRvY3VtZW50LmdldEVsZW1lbnRCeUlkKGlucHV0SWQpOwogIGlucHV0RWxlbWVudC5kaXNhYmxlZCA9IGZhbHNlOwoKICBjb25zdCBvdXRwdXRFbGVtZW50ID0gZG9jdW1lbnQuZ2V0RWxlbWVudEJ5SWQob3V0cHV0SWQpOwogIG91dHB1dEVsZW1lbnQuaW5uZXJIVE1MID0gJyc7CgogIGNvbnN0IHBpY2tlZFByb21pc2UgPSBuZXcgUHJvbWlzZSgocmVzb2x2ZSkgPT4gewogICAgaW5wdXRFbGVtZW50LmFkZEV2ZW50TGlzdGVuZXIoJ2NoYW5nZScsIChlKSA9PiB7CiAgICAgIHJlc29sdmUoZS50YXJnZXQuZmlsZXMpOwogICAgfSk7CiAgfSk7CgogIGNvbnN0IGNhbmNlbCA9IGRvY3VtZW50LmNyZWF0ZUVsZW1lbnQoJ2J1dHRvbicpOwogIGlucHV0RWxlbWVudC5wYXJlbnRFbGVtZW50LmFwcGVuZENoaWxkKGNhbmNlbCk7CiAgY2FuY2VsLnRleHRDb250ZW50ID0gJ0NhbmNlbCB1cGxvYWQnOwogIGNvbnN0IGNhbmNlbFByb21pc2UgPSBuZXcgUHJvbWlzZSgocmVzb2x2ZSkgPT4gewogICAgY2FuY2VsLm9uY2xpY2sgPSAoKSA9PiB7CiAgICAgIHJlc29sdmUobnVsbCk7CiAgICB9OwogIH0pOwoKICAvLyBXYWl0IGZvciB0aGUgdXNlciB0byBwaWNrIHRoZSBmaWxlcy4KICBjb25zdCBmaWxlcyA9IHlpZWxkIHsKICAgIHByb21pc2U6IFByb21pc2UucmFjZShbcGlja2VkUHJvbWlzZSwgY2FuY2VsUHJvbWlzZV0pLAogICAgcmVzcG9uc2U6IHsKICAgICAgYWN0aW9uOiAnc3RhcnRpbmcnLAogICAgfQogIH07CgogIGNhbmNlbC5yZW1vdmUoKTsKCiAgLy8gRGlzYWJsZSB0aGUgaW5wdXQgZWxlbWVudCBzaW5jZSBmdXJ0aGVyIHBpY2tzIGFyZSBub3QgYWxsb3dlZC4KICBpbnB1dEVsZW1lbnQuZGlzYWJsZWQgPSB0cnVlOwoKICBpZiAoIWZpbGVzKSB7CiAgICByZXR1cm4gewogICAgICByZXNwb25zZTogewogICAgICAgIGFjdGlvbjogJ2NvbXBsZXRlJywKICAgICAgfQogICAgfTsKICB9CgogIGZvciAoY29uc3QgZmlsZSBvZiBmaWxlcykgewogICAgY29uc3QgbGkgPSBkb2N1bWVudC5jcmVhdGVFbGVtZW50KCdsaScpOwogICAgbGkuYXBwZW5kKHNwYW4oZmlsZS5uYW1lLCB7Zm9udFdlaWdodDogJ2JvbGQnfSkpOwogICAgbGkuYXBwZW5kKHNwYW4oCiAgICAgICAgYCgke2ZpbGUudHlwZSB8fCAnbi9hJ30pIC0gJHtmaWxlLnNpemV9IGJ5dGVzLCBgICsKICAgICAgICBgbGFzdCBtb2RpZmllZDogJHsKICAgICAgICAgICAgZmlsZS5sYXN0TW9kaWZpZWREYXRlID8gZmlsZS5sYXN0TW9kaWZpZWREYXRlLnRvTG9jYWxlRGF0ZVN0cmluZygpIDoKICAgICAgICAgICAgICAgICAgICAgICAgICAgICAgICAgICAgJ24vYSd9IC0gYCkpOwogICAgY29uc3QgcGVyY2VudCA9IHNwYW4oJzAlIGRvbmUnKTsKICAgIGxpLmFwcGVuZENoaWxkKHBlcmNlbnQpOwoKICAgIG91dHB1dEVsZW1lbnQuYXBwZW5kQ2hpbGQobGkpOwoKICAgIGNvbnN0IGZpbGVEYXRhUHJvbWlzZSA9IG5ldyBQcm9taXNlKChyZXNvbHZlKSA9PiB7CiAgICAgIGNvbnN0IHJlYWRlciA9IG5ldyBGaWxlUmVhZGVyKCk7CiAgICAgIHJlYWRlci5vbmxvYWQgPSAoZSkgPT4gewogICAgICAgIHJlc29sdmUoZS50YXJnZXQucmVzdWx0KTsKICAgICAgfTsKICAgICAgcmVhZGVyLnJlYWRBc0FycmF5QnVmZmVyKGZpbGUpOwogICAgfSk7CiAgICAvLyBXYWl0IGZvciB0aGUgZGF0YSB0byBiZSByZWFkeS4KICAgIGxldCBmaWxlRGF0YSA9IHlpZWxkIHsKICAgICAgcHJvbWlzZTogZmlsZURhdGFQcm9taXNlLAogICAgICByZXNwb25zZTogewogICAgICAgIGFjdGlvbjogJ2NvbnRpbnVlJywKICAgICAgfQogICAgfTsKCiAgICAvLyBVc2UgYSBjaHVua2VkIHNlbmRpbmcgdG8gYXZvaWQgbWVzc2FnZSBzaXplIGxpbWl0cy4gU2VlIGIvNjIxMTU2NjAuCiAgICBsZXQgcG9zaXRpb24gPSAwOwogICAgZG8gewogICAgICBjb25zdCBsZW5ndGggPSBNYXRoLm1pbihmaWxlRGF0YS5ieXRlTGVuZ3RoIC0gcG9zaXRpb24sIE1BWF9QQVlMT0FEX1NJWkUpOwogICAgICBjb25zdCBjaHVuayA9IG5ldyBVaW50OEFycmF5KGZpbGVEYXRhLCBwb3NpdGlvbiwgbGVuZ3RoKTsKICAgICAgcG9zaXRpb24gKz0gbGVuZ3RoOwoKICAgICAgY29uc3QgYmFzZTY0ID0gYnRvYShTdHJpbmcuZnJvbUNoYXJDb2RlLmFwcGx5KG51bGwsIGNodW5rKSk7CiAgICAgIHlpZWxkIHsKICAgICAgICByZXNwb25zZTogewogICAgICAgICAgYWN0aW9uOiAnYXBwZW5kJywKICAgICAgICAgIGZpbGU6IGZpbGUubmFtZSwKICAgICAgICAgIGRhdGE6IGJhc2U2NCwKICAgICAgICB9LAogICAgICB9OwoKICAgICAgbGV0IHBlcmNlbnREb25lID0gZmlsZURhdGEuYnl0ZUxlbmd0aCA9PT0gMCA/CiAgICAgICAgICAxMDAgOgogICAgICAgICAgTWF0aC5yb3VuZCgocG9zaXRpb24gLyBmaWxlRGF0YS5ieXRlTGVuZ3RoKSAqIDEwMCk7CiAgICAgIHBlcmNlbnQudGV4dENvbnRlbnQgPSBgJHtwZXJjZW50RG9uZX0lIGRvbmVgOwoKICAgIH0gd2hpbGUgKHBvc2l0aW9uIDwgZmlsZURhdGEuYnl0ZUxlbmd0aCk7CiAgfQoKICAvLyBBbGwgZG9uZS4KICB5aWVsZCB7CiAgICByZXNwb25zZTogewogICAgICBhY3Rpb246ICdjb21wbGV0ZScsCiAgICB9CiAgfTsKfQoKc2NvcGUuZ29vZ2xlID0gc2NvcGUuZ29vZ2xlIHx8IHt9OwpzY29wZS5nb29nbGUuY29sYWIgPSBzY29wZS5nb29nbGUuY29sYWIgfHwge307CnNjb3BlLmdvb2dsZS5jb2xhYi5fZmlsZXMgPSB7CiAgX3VwbG9hZEZpbGVzLAogIF91cGxvYWRGaWxlc0NvbnRpbnVlLAp9Owp9KShzZWxmKTsK",
              "ok": true,
              "headers": [
                [
                  "content-type",
                  "application/javascript"
                ]
              ],
              "status": 200,
              "status_text": "OK"
            }
          },
          "base_uri": "https://localhost:8080/",
          "height": 77
        },
        "id": "FS1bM_iOpEgp",
        "outputId": "afa1daab-acbf-4620-adba-46c72df8a087"
      },
      "source": [
        "import pandas as pd\n",
        "from google.colab import files\n",
        "uploaded = files.upload()"
      ],
      "execution_count": 3,
      "outputs": [
        {
          "output_type": "display_data",
          "data": {
            "text/html": [
              "\n",
              "     <input type=\"file\" id=\"files-0755b080-97d7-42ea-a632-5dd2eab6a9de\" name=\"files[]\" multiple disabled\n",
              "        style=\"border:none\" />\n",
              "     <output id=\"result-0755b080-97d7-42ea-a632-5dd2eab6a9de\">\n",
              "      Upload widget is only available when the cell has been executed in the\n",
              "      current browser session. Please rerun this cell to enable.\n",
              "      </output>\n",
              "      <script src=\"/nbextensions/google.colab/files.js\"></script> "
            ],
            "text/plain": [
              "<IPython.core.display.HTML object>"
            ]
          },
          "metadata": {
            "tags": []
          }
        },
        {
          "output_type": "stream",
          "text": [
            "Saving weather_history.csv to weather_history (1).csv\n"
          ],
          "name": "stdout"
        }
      ]
    },
    {
      "cell_type": "code",
      "metadata": {
        "colab": {
          "base_uri": "https://localhost:8080/",
          "height": 424
        },
        "id": "d8mNoY9LqrD3",
        "outputId": "ea01ff07-1b3e-4352-95c7-ed6ee78ecf87"
      },
      "source": [
        "data_train = pd.read_csv('/content/weather_history (1).csv')\n",
        "data_train = data_train [['Formatted Date', 'Temperature (C)']]\n",
        "data_train"
      ],
      "execution_count": 11,
      "outputs": [
        {
          "output_type": "execute_result",
          "data": {
            "text/html": [
              "<div>\n",
              "<style scoped>\n",
              "    .dataframe tbody tr th:only-of-type {\n",
              "        vertical-align: middle;\n",
              "    }\n",
              "\n",
              "    .dataframe tbody tr th {\n",
              "        vertical-align: top;\n",
              "    }\n",
              "\n",
              "    .dataframe thead th {\n",
              "        text-align: right;\n",
              "    }\n",
              "</style>\n",
              "<table border=\"1\" class=\"dataframe\">\n",
              "  <thead>\n",
              "    <tr style=\"text-align: right;\">\n",
              "      <th></th>\n",
              "      <th>Formatted Date</th>\n",
              "      <th>Temperature (C)</th>\n",
              "    </tr>\n",
              "  </thead>\n",
              "  <tbody>\n",
              "    <tr>\n",
              "      <th>0</th>\n",
              "      <td>2006-04-01 00:00:00.000 +0200</td>\n",
              "      <td>9.472222</td>\n",
              "    </tr>\n",
              "    <tr>\n",
              "      <th>1</th>\n",
              "      <td>2006-04-01 01:00:00.000 +0200</td>\n",
              "      <td>9.355556</td>\n",
              "    </tr>\n",
              "    <tr>\n",
              "      <th>2</th>\n",
              "      <td>2006-04-01 02:00:00.000 +0200</td>\n",
              "      <td>9.377778</td>\n",
              "    </tr>\n",
              "    <tr>\n",
              "      <th>3</th>\n",
              "      <td>2006-04-01 03:00:00.000 +0200</td>\n",
              "      <td>8.288889</td>\n",
              "    </tr>\n",
              "    <tr>\n",
              "      <th>4</th>\n",
              "      <td>2006-04-01 04:00:00.000 +0200</td>\n",
              "      <td>8.755556</td>\n",
              "    </tr>\n",
              "    <tr>\n",
              "      <th>...</th>\n",
              "      <td>...</td>\n",
              "      <td>...</td>\n",
              "    </tr>\n",
              "    <tr>\n",
              "      <th>2104</th>\n",
              "      <td>2006-12-05 16:00:00.000 +0100</td>\n",
              "      <td>8.022222</td>\n",
              "    </tr>\n",
              "    <tr>\n",
              "      <th>2105</th>\n",
              "      <td>2006-12-05 17:00:00.000 +0100</td>\n",
              "      <td>7.822222</td>\n",
              "    </tr>\n",
              "    <tr>\n",
              "      <th>2106</th>\n",
              "      <td>2006-12-05 18:00:00.000 +0100</td>\n",
              "      <td>7.755556</td>\n",
              "    </tr>\n",
              "    <tr>\n",
              "      <th>2107</th>\n",
              "      <td>2006-12-05 19:00:00.000 +0100</td>\n",
              "      <td>7.250000</td>\n",
              "    </tr>\n",
              "    <tr>\n",
              "      <th>2108</th>\n",
              "      <td>2006-12-05 20:00:00.000 +0100</td>\n",
              "      <td>7.127778</td>\n",
              "    </tr>\n",
              "  </tbody>\n",
              "</table>\n",
              "<p>2109 rows × 2 columns</p>\n",
              "</div>"
            ],
            "text/plain": [
              "                     Formatted Date  Temperature (C)\n",
              "0     2006-04-01 00:00:00.000 +0200         9.472222\n",
              "1     2006-04-01 01:00:00.000 +0200         9.355556\n",
              "2     2006-04-01 02:00:00.000 +0200         9.377778\n",
              "3     2006-04-01 03:00:00.000 +0200         8.288889\n",
              "4     2006-04-01 04:00:00.000 +0200         8.755556\n",
              "...                             ...              ...\n",
              "2104  2006-12-05 16:00:00.000 +0100         8.022222\n",
              "2105  2006-12-05 17:00:00.000 +0100         7.822222\n",
              "2106  2006-12-05 18:00:00.000 +0100         7.755556\n",
              "2107  2006-12-05 19:00:00.000 +0100         7.250000\n",
              "2108  2006-12-05 20:00:00.000 +0100         7.127778\n",
              "\n",
              "[2109 rows x 2 columns]"
            ]
          },
          "metadata": {
            "tags": []
          },
          "execution_count": 11
        }
      ]
    },
    {
      "cell_type": "code",
      "metadata": {
        "id": "r1y-2p6Vqw0D"
      },
      "source": [
        "import numpy as np\n",
        "import pandas as pd\n",
        "from keras.layers import Dense, LSTM\n",
        "import matplotlib.pyplot as plt\n",
        "import tensorflow as tf"
      ],
      "execution_count": 12,
      "outputs": []
    },
    {
      "cell_type": "code",
      "metadata": {
        "colab": {
          "base_uri": "https://localhost:8080/",
          "height": 320
        },
        "id": "PTH1bwCHwi1E",
        "outputId": "d1fe9155-db2e-4969-ee56-b5e02645578b"
      },
      "source": [
        "dates = data_train['Formatted Date'].values\n",
        "temp  = data_train['Temperature (C)'].values\n",
        " \n",
        " \n",
        "plt.figure(figsize=(15,5))\n",
        "plt.plot(dates, temp);"
      ],
      "execution_count": 13,
      "outputs": [
        {
          "output_type": "display_data",
          "data": {
            "image/png": "[encoded data removed]",
            "text/plain": [
              "<Figure size 1080x360 with 1 Axes>"
            ]
          },
          "metadata": {
            "tags": [],
            "needs_background": "light"
          }
        }
      ]
    },
    {
      "cell_type": "code",
      "metadata": {
        "colab": {
          "base_uri": "https://localhost:8080/"
        },
        "id": "SR9m08WzwsD_",
        "outputId": "2af3379a-f1de-482e-fb85-b8625379fe6d"
      },
      "source": [
        "from sklearn.model_selection import train_test_split\n",
        "import numpy as np\n",
        "\n",
        "train_size = int(len(data_train)*0.8) # #80% untuk training dan 20% untuk testing\n",
        "train, test = data_train.iloc[0:train_size], data_train.iloc[train_size:len(data_train)]\n",
        "\n",
        "print(train.shape, test.shape)"
      ],
      "execution_count": 14,
      "outputs": [
        {
          "output_type": "stream",
          "text": [
            "(1687, 2) (422, 2)\n"
          ],
          "name": "stdout"
        }
      ]
    },
    {
      "cell_type": "code",
      "metadata": {
        "id": "QPPsxnqzw3o2"
      },
      "source": [
        "def windowed_dataset(series, window_size, batch_size, shuffle_buffer):\n",
        "    series = tf.expand_dims(series, axis=-1)\n",
        "    ds = tf.data.Dataset.from_tensor_slices(series)\n",
        "    ds = ds.window(window_size + 1, shift=1, drop_remainder=True)\n",
        "    ds = ds.flat_map(lambda w: w.batch(window_size + 1))\n",
        "    ds = ds.shuffle(shuffle_buffer)\n",
        "    ds = ds.map(lambda w: (w[:-1], w[-1:]))\n",
        "    return ds.batch(batch_size).prefetch(1)"
      ],
      "execution_count": 15,
      "outputs": []
    },
    {
      "cell_type": "code",
      "metadata": {
        "id": "wBE18EP5w3sH"
      },
      "source": [
        "train_set = windowed_dataset(temp, window_size=60, batch_size=100, shuffle_buffer=1000)\n",
        "\n",
        "model = tf.keras.models.Sequential([\n",
        "                                    tf.keras.layers.LSTM(60, return_sequences=True),\n",
        "                                    tf.keras.layers.LSTM(60),\n",
        "                                    tf.keras.layers.Dropout(0.2),\n",
        "                                    tf.keras.layers.Dense(30, activation=\"relu\"),\n",
        "                                    tf.keras.layers.Dense(10, activation=\"relu\"),\n",
        "                                    tf.keras.layers.Dense(1),\n",
        "                                    ])"
      ],
      "execution_count": 16,
      "outputs": []
    },
    {
      "cell_type": "code",
      "metadata": {
        "id": "-NRiNKMSw_5b"
      },
      "source": [
        "class my_allback(tf.keras.callbacks.Callback):\n",
        "    def on_epoch_end(self, epoch, logs={}):\n",
        "        if(logs.get('mae') < 0.1):\n",
        "            print(\"MAE has reached below 10%\")\n",
        "\n",
        "    def on_train_end(self, epoch, logs={}):\n",
        "        print('Done')\n",
        "\n",
        "callbacks = my_allback()"
      ],
      "execution_count": 17,
      "outputs": []
    },
    {
      "cell_type": "code",
      "metadata": {
        "colab": {
          "base_uri": "https://localhost:8080/"
        },
        "id": "CpMztGWHxDeA",
        "outputId": "f14b2b36-f9dd-4a0d-faa0-70e4a1b5caf3"
      },
      "source": [
        "optimizer = tf.keras.optimizers.SGD(lr=1.0000e-04, momentum=0.9)\n",
        "model.compile(loss=tf.keras.losses.Huber(),\n",
        "                  optimizer=optimizer,\n",
        "                  metrics=[\"mae\"])"
      ],
      "execution_count": 18,
      "outputs": [
        {
          "output_type": "stream",
          "text": [
            "/usr/local/lib/python3.7/dist-packages/tensorflow/python/keras/optimizer_v2/optimizer_v2.py:375: UserWarning: The `lr` argument is deprecated, use `learning_rate` instead.\n",
            "  \"The `lr` argument is deprecated, use `learning_rate` instead.\")\n"
          ],
          "name": "stderr"
        }
      ]
    },
    {
      "cell_type": "code",
      "metadata": {
        "colab": {
          "base_uri": "https://localhost:8080/"
        },
        "id": "XYd0oIiuxKdv",
        "outputId": "ad199226-a9e3-439c-86ae-7d7e04129306"
      },
      "source": [
        "history = model.fit(train_set,epochs=100, callbacks=[callbacks], shuffle=False)"
      ],
      "execution_count": 52,
      "outputs": [
        {
          "output_type": "stream",
          "text": [
            "Epoch 1/100\n",
            "21/21 [==============================] - 2s 109ms/step - loss: 1.0952 - mae: 1.5105\n",
            "Epoch 2/100\n",
            "21/21 [==============================] - 2s 104ms/step - loss: 1.0751 - mae: 1.4867\n",
            "Epoch 3/100\n",
            "21/21 [==============================] - 2s 106ms/step - loss: 1.0802 - mae: 1.4920\n",
            "Epoch 4/100\n",
            "21/21 [==============================] - 2s 102ms/step - loss: 1.0895 - mae: 1.5031\n",
            "Epoch 5/100\n",
            "21/21 [==============================] - 2s 98ms/step - loss: 1.0701 - mae: 1.4831\n",
            "Epoch 6/100\n",
            "21/21 [==============================] - 2s 107ms/step - loss: 1.0803 - mae: 1.4953\n",
            "Epoch 7/100\n",
            "21/21 [==============================] - 2s 103ms/step - loss: 1.0640 - mae: 1.4852\n",
            "Epoch 8/100\n",
            "21/21 [==============================] - 2s 101ms/step - loss: 1.0726 - mae: 1.4877\n",
            "Epoch 9/100\n",
            "21/21 [==============================] - 3s 111ms/step - loss: 1.0570 - mae: 1.4662\n",
            "Epoch 10/100\n",
            "21/21 [==============================] - 2s 101ms/step - loss: 1.0655 - mae: 1.4841\n",
            "Epoch 11/100\n",
            "21/21 [==============================] - 2s 108ms/step - loss: 1.0395 - mae: 1.4505\n",
            "Epoch 12/100\n",
            "21/21 [==============================] - 3s 113ms/step - loss: 1.0651 - mae: 1.4839\n",
            "Epoch 13/100\n",
            "21/21 [==============================] - 2s 103ms/step - loss: 1.0861 - mae: 1.5051\n",
            "Epoch 14/100\n",
            "21/21 [==============================] - 2s 100ms/step - loss: 1.0738 - mae: 1.4859\n",
            "Epoch 15/100\n",
            "21/21 [==============================] - 2s 100ms/step - loss: 1.0538 - mae: 1.4696\n",
            "Epoch 16/100\n",
            "21/21 [==============================] - 2s 104ms/step - loss: 1.0549 - mae: 1.4716\n",
            "Epoch 17/100\n",
            "21/21 [==============================] - 2s 101ms/step - loss: 1.0045 - mae: 1.4178\n",
            "Epoch 18/100\n",
            "21/21 [==============================] - 2s 104ms/step - loss: 1.0600 - mae: 1.4784\n",
            "Epoch 19/100\n",
            "21/21 [==============================] - 2s 99ms/step - loss: 1.0529 - mae: 1.4642\n",
            "Epoch 20/100\n",
            "21/21 [==============================] - 2s 100ms/step - loss: 1.0587 - mae: 1.4753\n",
            "Epoch 21/100\n",
            "21/21 [==============================] - 2s 107ms/step - loss: 1.0557 - mae: 1.4741\n",
            "Epoch 22/100\n",
            "21/21 [==============================] - 2s 105ms/step - loss: 1.0315 - mae: 1.4465\n",
            "Epoch 23/100\n",
            "21/21 [==============================] - 2s 106ms/step - loss: 1.0574 - mae: 1.4698\n",
            "Epoch 24/100\n",
            "21/21 [==============================] - 2s 102ms/step - loss: 1.0196 - mae: 1.4317\n",
            "Epoch 25/100\n",
            "21/21 [==============================] - 2s 101ms/step - loss: 1.0205 - mae: 1.4353\n",
            "Epoch 26/100\n",
            "21/21 [==============================] - 2s 106ms/step - loss: 1.0695 - mae: 1.4869\n",
            "Epoch 27/100\n",
            "21/21 [==============================] - 2s 100ms/step - loss: 1.0120 - mae: 1.4240\n",
            "Epoch 28/100\n",
            "21/21 [==============================] - 2s 105ms/step - loss: 1.0289 - mae: 1.4431\n",
            "Epoch 29/100\n",
            "21/21 [==============================] - 2s 100ms/step - loss: 1.0046 - mae: 1.4186\n",
            "Epoch 30/100\n",
            "21/21 [==============================] - 2s 99ms/step - loss: 1.0537 - mae: 1.4699\n",
            "Epoch 31/100\n",
            "21/21 [==============================] - 2s 99ms/step - loss: 1.0318 - mae: 1.4439\n",
            "Epoch 32/100\n",
            "21/21 [==============================] - 2s 100ms/step - loss: 0.9964 - mae: 1.4062\n",
            "Epoch 33/100\n",
            "21/21 [==============================] - 2s 100ms/step - loss: 1.0204 - mae: 1.4345\n",
            "Epoch 34/100\n",
            "21/21 [==============================] - 3s 116ms/step - loss: 1.0050 - mae: 1.4211\n",
            "Epoch 35/100\n",
            "21/21 [==============================] - 2s 102ms/step - loss: 0.9899 - mae: 1.3988\n",
            "Epoch 36/100\n",
            "21/21 [==============================] - 2s 100ms/step - loss: 0.9970 - mae: 1.4052\n",
            "Epoch 37/100\n",
            "21/21 [==============================] - 2s 104ms/step - loss: 0.9920 - mae: 1.4036\n",
            "Epoch 38/100\n",
            "21/21 [==============================] - 2s 107ms/step - loss: 0.9703 - mae: 1.3825\n",
            "Epoch 39/100\n",
            "21/21 [==============================] - 2s 100ms/step - loss: 0.9829 - mae: 1.3961\n",
            "Epoch 40/100\n",
            "21/21 [==============================] - 3s 113ms/step - loss: 0.9535 - mae: 1.3644\n",
            "Epoch 41/100\n",
            "21/21 [==============================] - 3s 116ms/step - loss: 0.9864 - mae: 1.3988\n",
            "Epoch 42/100\n",
            "21/21 [==============================] - 2s 104ms/step - loss: 0.9700 - mae: 1.3819\n",
            "Epoch 43/100\n",
            "21/21 [==============================] - 3s 113ms/step - loss: 1.0071 - mae: 1.4190\n",
            "Epoch 44/100\n",
            "21/21 [==============================] - 2s 101ms/step - loss: 0.9811 - mae: 1.3911\n",
            "Epoch 45/100\n",
            "21/21 [==============================] - 2s 101ms/step - loss: 0.9491 - mae: 1.3612\n",
            "Epoch 46/100\n",
            "21/21 [==============================] - 2s 109ms/step - loss: 0.9465 - mae: 1.3581\n",
            "Epoch 47/100\n",
            "21/21 [==============================] - 2s 108ms/step - loss: 0.9304 - mae: 1.3388\n",
            "Epoch 48/100\n",
            "21/21 [==============================] - 2s 101ms/step - loss: 0.9648 - mae: 1.3729\n",
            "Epoch 49/100\n",
            "21/21 [==============================] - 2s 107ms/step - loss: 0.9392 - mae: 1.3494\n",
            "Epoch 50/100\n",
            "21/21 [==============================] - 2s 101ms/step - loss: 0.9653 - mae: 1.3772\n",
            "Epoch 51/100\n",
            "21/21 [==============================] - 2s 108ms/step - loss: 0.9405 - mae: 1.3520\n",
            "Epoch 52/100\n",
            "21/21 [==============================] - 2s 105ms/step - loss: 0.9199 - mae: 1.3325\n",
            "Epoch 53/100\n",
            "21/21 [==============================] - 2s 100ms/step - loss: 0.9557 - mae: 1.3706\n",
            "Epoch 54/100\n",
            "21/21 [==============================] - 3s 113ms/step - loss: 0.9620 - mae: 1.3707\n",
            "Epoch 55/100\n",
            "21/21 [==============================] - 2s 109ms/step - loss: 0.9596 - mae: 1.3684\n",
            "Epoch 56/100\n",
            "21/21 [==============================] - 2s 101ms/step - loss: 0.9801 - mae: 1.3910\n",
            "Epoch 57/100\n",
            "21/21 [==============================] - 2s 110ms/step - loss: 0.9435 - mae: 1.3527\n",
            "Epoch 58/100\n",
            "21/21 [==============================] - 2s 110ms/step - loss: 0.9283 - mae: 1.3370\n",
            "Epoch 59/100\n",
            "21/21 [==============================] - 3s 112ms/step - loss: 0.9370 - mae: 1.3453\n",
            "Epoch 60/100\n",
            "21/21 [==============================] - 2s 103ms/step - loss: 0.9593 - mae: 1.3672\n",
            "Epoch 61/100\n",
            "21/21 [==============================] - 2s 100ms/step - loss: 0.9517 - mae: 1.3659\n",
            "Epoch 62/100\n",
            "21/21 [==============================] - 2s 106ms/step - loss: 0.9431 - mae: 1.3504\n",
            "Epoch 63/100\n",
            "21/21 [==============================] - 2s 101ms/step - loss: 0.9403 - mae: 1.3461\n",
            "Epoch 64/100\n",
            "21/21 [==============================] - 3s 113ms/step - loss: 0.9496 - mae: 1.3615\n",
            "Epoch 65/100\n",
            "21/21 [==============================] - 3s 112ms/step - loss: 0.9317 - mae: 1.3399\n",
            "Epoch 66/100\n",
            "21/21 [==============================] - 2s 105ms/step - loss: 0.9321 - mae: 1.3412\n",
            "Epoch 67/100\n",
            "21/21 [==============================] - 3s 113ms/step - loss: 0.9224 - mae: 1.3309\n",
            "Epoch 68/100\n",
            "21/21 [==============================] - 2s 111ms/step - loss: 0.9319 - mae: 1.3422\n",
            "Epoch 69/100\n",
            "21/21 [==============================] - 3s 115ms/step - loss: 0.9296 - mae: 1.3404\n",
            "Epoch 70/100\n",
            "21/21 [==============================] - 3s 116ms/step - loss: 0.9311 - mae: 1.3382\n",
            "Epoch 71/100\n",
            "21/21 [==============================] - 2s 104ms/step - loss: 0.9296 - mae: 1.3401\n",
            "Epoch 72/100\n",
            "21/21 [==============================] - 2s 100ms/step - loss: 0.9439 - mae: 1.3507\n",
            "Epoch 73/100\n",
            "21/21 [==============================] - 2s 101ms/step - loss: 0.9159 - mae: 1.3270\n",
            "Epoch 74/100\n",
            "21/21 [==============================] - 2s 103ms/step - loss: 0.8959 - mae: 1.2989\n",
            "Epoch 75/100\n",
            "21/21 [==============================] - 3s 117ms/step - loss: 0.9058 - mae: 1.3153\n",
            "Epoch 76/100\n",
            "21/21 [==============================] - 2s 104ms/step - loss: 0.9443 - mae: 1.3535\n",
            "Epoch 77/100\n",
            "21/21 [==============================] - 2s 101ms/step - loss: 0.9082 - mae: 1.3126\n",
            "Epoch 78/100\n",
            "21/21 [==============================] - 2s 102ms/step - loss: 0.9113 - mae: 1.3158\n",
            "Epoch 79/100\n",
            "21/21 [==============================] - 2s 106ms/step - loss: 0.8881 - mae: 1.2935\n",
            "Epoch 80/100\n",
            "21/21 [==============================] - 2s 107ms/step - loss: 0.8976 - mae: 1.3048\n",
            "Epoch 81/100\n",
            "21/21 [==============================] - 2s 100ms/step - loss: 0.8785 - mae: 1.2795\n",
            "Epoch 82/100\n",
            "21/21 [==============================] - 2s 103ms/step - loss: 0.9226 - mae: 1.3323\n",
            "Epoch 83/100\n",
            "21/21 [==============================] - 2s 102ms/step - loss: 0.8984 - mae: 1.3066\n",
            "Epoch 84/100\n",
            "21/21 [==============================] - 3s 112ms/step - loss: 0.8996 - mae: 1.3042\n",
            "Epoch 85/100\n",
            "21/21 [==============================] - 2s 102ms/step - loss: 0.8958 - mae: 1.3030\n",
            "Epoch 86/100\n",
            "21/21 [==============================] - 2s 100ms/step - loss: 0.9126 - mae: 1.3201\n",
            "Epoch 87/100\n",
            "21/21 [==============================] - 2s 102ms/step - loss: 0.9124 - mae: 1.3206\n",
            "Epoch 88/100\n",
            "21/21 [==============================] - 2s 100ms/step - loss: 0.9098 - mae: 1.3143\n",
            "Epoch 89/100\n",
            "21/21 [==============================] - 2s 104ms/step - loss: 0.9064 - mae: 1.3136\n",
            "Epoch 90/100\n",
            "21/21 [==============================] - 2s 109ms/step - loss: 0.8716 - mae: 1.2812\n",
            "Epoch 91/100\n",
            "21/21 [==============================] - 2s 102ms/step - loss: 0.9062 - mae: 1.3157\n",
            "Epoch 92/100\n",
            "21/21 [==============================] - 2s 102ms/step - loss: 0.8830 - mae: 1.2922\n",
            "Epoch 93/100\n",
            "21/21 [==============================] - 2s 103ms/step - loss: 0.8915 - mae: 1.2921\n",
            "Epoch 94/100\n",
            "21/21 [==============================] - 2s 105ms/step - loss: 0.8761 - mae: 1.2799\n",
            "Epoch 95/100\n",
            "21/21 [==============================] - 2s 101ms/step - loss: 0.8885 - mae: 1.2927\n",
            "Epoch 96/100\n",
            "21/21 [==============================] - 2s 100ms/step - loss: 0.9003 - mae: 1.3111\n",
            "Epoch 97/100\n",
            "21/21 [==============================] - 2s 102ms/step - loss: 0.8763 - mae: 1.2820\n",
            "Epoch 98/100\n",
            "21/21 [==============================] - 2s 101ms/step - loss: 0.8714 - mae: 1.2757\n",
            "Epoch 99/100\n",
            "21/21 [==============================] - 3s 118ms/step - loss: 0.8655 - mae: 1.2700\n",
            "Epoch 100/100\n",
            "21/21 [==============================] - 2s 110ms/step - loss: 0.8675 - mae: 1.2754\n",
            "Done\n"
          ],
          "name": "stdout"
        }
      ]
    }
  ]
}